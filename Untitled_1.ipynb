{
 "cells": [
  {
   "cell_type": "code",
   "execution_count": 1,
   "metadata": {},
   "outputs": [],
   "source": [
    "import numpy as np\n",
    "import cupy as cp\n",
    "import cv2\n",
    "import matplotlib.pyplot as plt\n",
    "from math import sqrt\n",
    "%matplotlib inline"
   ]
  },
  {
   "cell_type": "code",
   "execution_count": 2,
   "metadata": {},
   "outputs": [
    {
     "name": "stdout",
     "output_type": "stream",
     "text": [
      "CPU times: user 6.44 s, sys: 2.25 s, total: 8.69 s\n",
      "Wall time: 1.99 s\n"
     ]
    }
   ],
   "source": [
    "%%time\n",
    "center = np.array((2.3e8,2.3e8))\n",
    "R = 2.3e8/2\n",
    "y = np.around(np.arange(-R/np.sqrt(2)-1,R/np.sqrt(2)+2,1)).astype(np.int32)\n",
    "x = np.around((np.sqrt(R**2 - y**2))).astype(np.int32)"
   ]
  },
  {
   "cell_type": "code",
   "execution_count": 3,
   "metadata": {},
   "outputs": [
    {
     "name": "stdout",
     "output_type": "stream",
     "text": [
      "CPU times: user 217 ms, sys: 295 ms, total: 512 ms\n",
      "Wall time: 528 ms\n"
     ]
    }
   ],
   "source": [
    "%%time\n",
    "center = cp.array((2.3e8, 2.3e8))\n",
    "R = 2.3e8/2\n",
    "y = cp.arange(-R/np.sqrt(2)-1,R/np.sqrt(2)+2,1)\n",
    "x = (cp.sqrt(R**2 - y**2)).astype(cp.int32)"
   ]
  },
  {
   "cell_type": "code",
   "execution_count": 8,
   "metadata": {},
   "outputs": [
    {
     "name": "stdout",
     "output_type": "stream",
     "text": [
      "CPU times: user 43.7 s, sys: 7.49 s, total: 51.2 s\n",
      "Wall time: 29.1 s\n"
     ]
    }
   ],
   "source": [
    "%%time\n",
    "im_size = 20000\n",
    "img = np.zeros((im_size,im_size), dtype=np.bool)\n",
    "center = np.array((10000,10000))\n",
    "R = 10000\n",
    "y = np.around(np.arange(-R/np.sqrt(2)-1,R/np.sqrt(2)+2,1)).astype(np.int16)\n",
    "x = np.around((np.sqrt(R**2 - y**2))).astype(np.int16)\n",
    "img[np.clip(-x+center[0],0,im_size-1),np.clip(y+center[1],0,im_size-1)] = True\n",
    "img[np.clip(x+center[0],0,im_size-1),np.clip(y+center[1],0,im_size-1)] = True\n",
    "img[np.clip(y+center[1],0,im_size-1), np.clip(x+center[0],0,im_size-1)] = True\n",
    "img[np.clip(y+center[1],0,im_size-1), np.clip(-x+center[0],0,im_size-1)] = True\n",
    "plt.imsave(\"kek.jpeg\", img[1:im_size-1,1:im_size-1], dpi=100)"
   ]
  }
 ],
 "metadata": {
  "kernelspec": {
   "display_name": "Python 3",
   "language": "python",
   "name": "python3"
  },
  "language_info": {
   "codemirror_mode": {
    "name": "ipython",
    "version": 3
   },
   "file_extension": ".py",
   "mimetype": "text/x-python",
   "name": "python",
   "nbconvert_exporter": "python",
   "pygments_lexer": "ipython3",
   "version": "3.6.6"
  }
 },
 "nbformat": 4,
 "nbformat_minor": 2
}
