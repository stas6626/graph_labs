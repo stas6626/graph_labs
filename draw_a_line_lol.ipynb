{
 "cells": [
  {
   "cell_type": "code",
   "execution_count": 1,
   "metadata": {},
   "outputs": [],
   "source": [
    "import numpy as np\n",
    "import matplotlib.pyplot as plt\n",
    "import math\n",
    "from numba import jit\n",
    "%matplotlib inline"
   ]
  },
  {
   "cell_type": "code",
   "execution_count": 2,
   "metadata": {},
   "outputs": [],
   "source": [
    "def DrawALine(point_1 = np.array((50,50)), point_2 = np.array((10,10))):\n",
    "    if point_1[0] > point_2[0]:\n",
    "        point_1, point_2 = point_2, point_1\n",
    "    if abs(point_1[0] - point_2[0]) > abs(point_1[1] - point_2[1]):\n",
    "        x = np.arange(point_1[0], point_2[0]+1)\n",
    "        y = ((point_2[1] - point_1[1]) / (point_2[0] - point_1[0])) * (x - point_1[0]) + point_1[1]\n",
    "        return np.array(x).astype(np.uint32), np.array(y).astype(np.uint32)\n",
    "    else:\n",
    "        x = np.arange(point_1[1], point_2[1]+1)\n",
    "        y = ((point_2[0] - point_1[0]) / (point_2[1] - point_1[1])) * (x - point_1[1]) + point_1[0]\n",
    "        return np.array(y).astype(np.uint32), np.array(x).astype(np.uint32)"
   ]
  },
  {
   "cell_type": "code",
   "execution_count": 3,
   "metadata": {},
   "outputs": [],
   "source": [
    "@jit\n",
    "def DrawALine_jit(point_1 = np.array((50,50)), point_2 = np.array((10,10))):\n",
    "    if point_1[0] > point_2[0]:\n",
    "        point_1, point_2 = point_2, point_1\n",
    "    if abs(point_1[0] - point_2[0]) > abs(point_1[1] - point_2[1]):\n",
    "        x = np.arange(point_1[0], point_2[0]+1)\n",
    "        y = ((point_2[1] - point_1[1]) / (point_2[0] - point_1[0])) * (x - point_1[0]) + point_1[1]\n",
    "        return np.array(x).astype(np.uint32), np.array(y).astype(np.uint32)\n",
    "    else:\n",
    "        x = np.arange(point_1[1], point_2[1]+1)\n",
    "        y = ((point_2[0] - point_1[0]) / (point_2[1] - point_1[1])) * (x - point_1[1]) + point_1[0]\n",
    "        return np.array(y).astype(np.uint32), np.array(x).astype(np.uint32)"
   ]
  },
  {
   "cell_type": "code",
   "execution_count": 4,
   "metadata": {},
   "outputs": [
    {
     "data": {
      "text/plain": [
       "<matplotlib.image.AxesImage at 0x7f354c621080>"
      ]
     },
     "execution_count": 4,
     "metadata": {},
     "output_type": "execute_result"
    },
    {
     "data": {
      "image/png": "[encoded data removed]",
      "text/plain": [
       "<Figure size 432x288 with 1 Axes>"
      ]
     },
     "metadata": {},
     "output_type": "display_data"
    }
   ],
   "source": [
    "x,y = DrawALine(np.array((0,0)), np.array((99,99)))\n",
    "img = np.zeros((100,100))\n",
    "img[x, y] = 1\n",
    "plt.imshow(np.rot90(img))"
   ]
  },
  {
   "cell_type": "code",
   "execution_count": 5,
   "metadata": {},
   "outputs": [
    {
     "data": {
      "text/plain": [
       "(array([        0,         1,         2, ...,  99999998,  99999999,\n",
       "        100000000], dtype=uint32),\n",
       " array([        0,         1,         2, ...,  99999998,  99999999,\n",
       "        100000000], dtype=uint32))"
      ]
     },
     "execution_count": 5,
     "metadata": {},
     "output_type": "execute_result"
    }
   ],
   "source": [
    "DrawALine(np.array((0,0)), np.array((10**8,10**8)))"
   ]
  },
  {
   "cell_type": "code",
   "execution_count": 11,
   "metadata": {
    "scrolled": true
   },
   "outputs": [
    {
     "name": "stdout",
     "output_type": "stream",
     "text": [
      "1.67 s ± 12.3 ms per loop (mean ± std. dev. of 7 runs, 1 loop each)\n"
     ]
    }
   ],
   "source": [
    "%timeit DrawALine(np.array((0,0)), np.array((10**8,10**8)))"
   ]
  },
  {
   "cell_type": "code",
   "execution_count": 12,
   "metadata": {},
   "outputs": [
    {
     "name": "stdout",
     "output_type": "stream",
     "text": [
      "1.64 s ± 30.8 ms per loop (mean ± std. dev. of 7 runs, 1 loop each)\n"
     ]
    }
   ],
   "source": [
    "%timeit DrawALine_jit(np.array((0,0)), np.array((10**8,10**8)))"
   ]
  },
  {
   "cell_type": "code",
   "execution_count": null,
   "metadata": {},
   "outputs": [],
   "source": []
  }
 ],
 "metadata": {
  "kernelspec": {
   "display_name": "Python 3",
   "language": "python",
   "name": "python3"
  },
  "language_info": {
   "codemirror_mode": {
    "name": "ipython",
    "version": 3
   },
   "file_extension": ".py",
   "mimetype": "text/x-python",
   "name": "python",
   "nbconvert_exporter": "python",
   "pygments_lexer": "ipython3",
   "version": "3.6.5"
  }
 },
 "nbformat": 4,
 "nbformat_minor": 2
}
