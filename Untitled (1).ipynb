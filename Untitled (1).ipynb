{
 "cells": [
  {
   "cell_type": "code",
   "execution_count": null,
   "metadata": {},
   "outputs": [],
   "source": [
    "from math import sin, cos, pi\n",
    "import matplotlib.pyplot as plt\n",
    "from sympy import symbols, var\n",
    "%matplotlib inline\n",
    "x = symbols(\"x\")"
   ]
  },
  {
   "cell_type": "code",
   "execution_count": 2,
   "metadata": {},
   "outputs": [],
   "source": [
    "def func(x):\n",
    "    return (sin(x*cos(2*x))/(x*x+5))**2"
   ]
  },
  {
   "cell_type": "code",
   "execution_count": 13,
   "metadata": {},
   "outputs": [],
   "source": [
    "a, b, N, M = 0, pi, 5, 15"
   ]
  },
  {
   "cell_type": "code",
   "execution_count": 14,
   "metadata": {},
   "outputs": [],
   "source": [
    "N_arr = [a + ((b-a)/N * i) for i in range(N+1)]\n",
    "M_arr = [a + ((b-a)/M * i) for i in range(M+1)]\n",
    "\n",
    "N_func_arr = [func(digit) for digit in N_arr]\n",
    "M_func_arr = [func(digit) for digit in M_arr]"
   ]
  },
  {
   "cell_type": "code",
   "execution_count": 15,
   "metadata": {},
   "outputs": [],
   "source": [
    "def de_Lagrangian(arr:list, arr_func:list):\n",
    "    x = symbols(\"x\")\n",
    "    count = 0\n",
    "    for i in range(len(arr)):\n",
    "        P = 1\n",
    "        for j in range(len(arr)):\n",
    "            if i == j:\n",
    "                continue\n",
    "            P *= (x - arr[j])/(arr[i] - arr[j])\n",
    "        \n",
    "        count += arr_func[i] * P\n",
    "    return count"
   ]
  },
  {
   "cell_type": "code",
   "execution_count": 16,
   "metadata": {},
   "outputs": [],
   "source": [
    "def de_Lagrangian_num(x, arr:list, arr_func:list):\n",
    "    #x = symbols(\"x\")\n",
    "    count = 0\n",
    "    for i in range(len(arr)):\n",
    "        P = 1\n",
    "        for j in range(len(arr)):\n",
    "            if i == j:\n",
    "                continue\n",
    "            P *= (x - arr[j])/(arr[i] - arr[j])\n",
    "        \n",
    "        count += arr_func[i] * P\n",
    "    return count"
   ]
  },
  {
   "cell_type": "code",
   "execution_count": 17,
   "metadata": {},
   "outputs": [
    {
     "name": "stdout",
     "output_type": "stream",
     "text": [
      "CPU times: user 201 µs, sys: 28 µs, total: 229 µs\n",
      "Wall time: 233 µs\n"
     ]
    }
   ],
   "source": [
    "%%time\n",
    "M_Lagr_arr_num = [de_Lagrangian_num(i, N_arr, N_func_arr) for i in M_arr]"
   ]
  },
  {
   "cell_type": "code",
   "execution_count": null,
   "metadata": {},
   "outputs": [],
   "source": []
  },
  {
   "cell_type": "code",
   "execution_count": 18,
   "metadata": {},
   "outputs": [],
   "source": [
    "L_func = de_Lagrangian(N_arr, N_func_arr).simplify()\n",
    "M_Lagr_arr = [L_func.subs(x,i) for i in M_arr]"
   ]
  },
  {
   "cell_type": "code",
   "execution_count": 19,
   "metadata": {},
   "outputs": [
    {
     "data": {
      "text/plain": [
       "x*(-0.00369554980497659*x**4 + 0.0350864119741099*x**3 - 0.117728334515183*x**2 + 0.156619363142785*x - 0.0580210022099032)"
      ]
     },
     "execution_count": 19,
     "metadata": {},
     "output_type": "execute_result"
    }
   ],
   "source": [
    "L_func"
   ]
  },
  {
   "cell_type": "code",
   "execution_count": 20,
   "metadata": {},
   "outputs": [
    {
     "name": "stdout",
     "output_type": "stream",
     "text": [
      "x|f(x)|L(x)\n",
      "--------------------------------------------------------------------------------\n",
      "0.0|0.0|0.0\n",
      "--------------------------------------------------------------------------------\n",
      "0.20944|0.001421|-0.006297\n",
      "--------------------------------------------------------------------------------\n",
      "0.418879|0.002857|-0.004443\n",
      "--------------------------------------------------------------------------------\n",
      "0.628319|0.001279|0.001279\n",
      "--------------------------------------------------------------------------------\n",
      "0.837758|0.000235|0.007851\n",
      "--------------------------------------------------------------------------------\n",
      "1.047198|0.006726|0.013336\n",
      "--------------------------------------------------------------------------------\n",
      "1.256637|0.016705|0.016705\n",
      "--------------------------------------------------------------------------------\n",
      "1.466077|0.019201|0.017654\n",
      "--------------------------------------------------------------------------------\n",
      "1.675516|0.01633|0.016428\n",
      "--------------------------------------------------------------------------------\n",
      "1.884956|0.013641|0.013641\n",
      "--------------------------------------------------------------------------------\n",
      "2.094395|0.008512|0.010097\n",
      "--------------------------------------------------------------------------------\n",
      "2.303835|0.000535|0.006612\n",
      "--------------------------------------------------------------------------------\n",
      "2.513274|0.003836|0.003836\n",
      "--------------------------------------------------------------------------------\n",
      "2.722714|0.006089|0.002073\n",
      "--------------------------------------------------------------------------------\n",
      "2.932153|0.001079|0.001102\n",
      "--------------------------------------------------------------------------------\n",
      "3.141593|0.0|-0.0\n"
     ]
    }
   ],
   "source": [
    "q = 6 #precision\n",
    "M_Lagr_arr = [L_func.subs(x,i) for i in M_arr]\n",
    "print(\"x|f(x)|L(x)\")\n",
    "for i, x_с_крышкой in enumerate(M_arr):\n",
    "    print(80*\"-\")\n",
    "    print(f\"{round(x_с_крышкой,q)}|{round(M_func_arr[i],q)}|{round(M_Lagr_arr[i],q)}\")"
   ]
  },
  {
   "cell_type": "code",
   "execution_count": 21,
   "metadata": {},
   "outputs": [
    {
     "name": "stdout",
     "output_type": "stream",
     "text": [
      "x|f(x)|L(x)\n",
      "--------------------------------------------------------------------------------\n",
      "0.0|0.0|0.0\n",
      "--------------------------------------------------------------------------------\n",
      "0.20944|0.001421|-0.006297\n",
      "--------------------------------------------------------------------------------\n",
      "0.418879|0.002857|-0.004443\n",
      "--------------------------------------------------------------------------------\n",
      "0.628319|0.001279|0.001279\n",
      "--------------------------------------------------------------------------------\n",
      "0.837758|0.000235|0.007851\n",
      "--------------------------------------------------------------------------------\n",
      "1.047198|0.006726|0.013336\n",
      "--------------------------------------------------------------------------------\n",
      "1.256637|0.016705|0.016705\n",
      "--------------------------------------------------------------------------------\n",
      "1.466077|0.019201|0.017654\n",
      "--------------------------------------------------------------------------------\n",
      "1.675516|0.01633|0.016428\n",
      "--------------------------------------------------------------------------------\n",
      "1.884956|0.013641|0.013641\n",
      "--------------------------------------------------------------------------------\n",
      "2.094395|0.008512|0.010097\n",
      "--------------------------------------------------------------------------------\n",
      "2.303835|0.000535|0.006612\n",
      "--------------------------------------------------------------------------------\n",
      "2.513274|0.003836|0.003836\n",
      "--------------------------------------------------------------------------------\n",
      "2.722714|0.006089|0.002073\n",
      "--------------------------------------------------------------------------------\n",
      "2.932153|0.001079|0.001102\n",
      "--------------------------------------------------------------------------------\n",
      "3.141593|0.0|0.0\n"
     ]
    }
   ],
   "source": [
    "q = 6 #precision\n",
    "M_Lagr_arr = [L_func.subs(x,i) for i in M_arr]\n",
    "print(\"x|f(x)|L(x)\")\n",
    "for i, x_с_крышкой in enumerate(M_arr):\n",
    "    print(80*\"-\")\n",
    "    print(f\"{round(x_с_крышкой,q)}|{round(M_func_arr[i],q)}|{round(M_Lagr_arr_num[i],q)}\")"
   ]
  },
  {
   "cell_type": "code",
   "execution_count": 22,
   "metadata": {},
   "outputs": [
    {
     "data": {
      "text/plain": [
       "[<matplotlib.lines.Line2D at 0x7f77e9e10b38>]"
      ]
     },
     "execution_count": 22,
     "metadata": {},
     "output_type": "execute_result"
    },
    {
     "data": {
      "image/png": "[encoded data removed]",
      "text/plain": [
       "<Figure size 432x288 with 1 Axes>"
      ]
     },
     "metadata": {},
     "output_type": "display_data"
    }
   ],
   "source": [
    "plt.plot(M_Lagr_arr)"
   ]
  },
  {
   "cell_type": "code",
   "execution_count": 23,
   "metadata": {},
   "outputs": [
    {
     "data": {
      "text/plain": [
       "[<matplotlib.lines.Line2D at 0x7f77e9e5eda0>]"
      ]
     },
     "execution_count": 23,
     "metadata": {},
     "output_type": "execute_result"
    },
    {
     "data": {
      "image/png": "[encoded data removed]",
      "text/plain": [
       "<Figure size 432x288 with 1 Axes>"
      ]
     },
     "metadata": {},
     "output_type": "display_data"
    }
   ],
   "source": [
    "plt.plot(M_Lagr_arr_num)"
   ]
  },
  {
   "cell_type": "code",
   "execution_count": null,
   "metadata": {},
   "outputs": [],
   "source": []
  },
  {
   "cell_type": "code",
   "execution_count": null,
   "metadata": {},
   "outputs": [],
   "source": []
  }
 ],
 "metadata": {
  "kernelspec": {
   "display_name": "Python 3",
   "language": "python",
   "name": "python3"
  },
  "language_info": {
   "codemirror_mode": {
    "name": "ipython",
    "version": 3
   },
   "file_extension": ".py",
   "mimetype": "text/x-python",
   "name": "python",
   "nbconvert_exporter": "python",
   "pygments_lexer": "ipython3",
   "version": "3.6.5"
  }
 },
 "nbformat": 4,
 "nbformat_minor": 2
}
